{
 "cells": [
  {
   "cell_type": "code",
   "execution_count": 36,
   "metadata": {
    "scrolled": true
   },
   "outputs": [
    {
     "name": "stdout",
     "output_type": "stream",
     "text": [
      "Loading VGG16 pre-trained model...\n"
     ]
    },
    {
     "name": "stderr",
     "output_type": "stream",
     "text": [
      "C:\\Users\\Java\\Anaconda3\\envs\\tensorflow\\lib\\site-packages\\ipykernel_launcher.py:14: UserWarning: Update your `Model` call to the Keras 2 API: `Model(inputs=Tensor(\"in..., outputs=Tensor(\"bl...)`\n",
      "  \n"
     ]
    }
   ],
   "source": [
    "from keras.preprocessing import image\n",
    "from keras.models import Model\n",
    "from keras.applications.vgg16 import VGG16 \n",
    "from keras.applications.vgg16 import preprocess_input\n",
    "\n",
    "from sklearn.neighbors import KNeighborsClassifier\n",
    "from sklearn.cross_validation import train_test_split\n",
    "import numpy as np\n",
    "\n",
    "import os\n",
    "import re\n",
    "print(\"Loading VGG16 pre-trained model...\")\n",
    "base_model = VGG16(weights='imagenet',input_shape=(150, 150, 3),include_top=False)\n",
    "model = Model(input=base_model.input,output=base_model.get_layer('block4_pool').output)"
   ]
  },
  {
   "cell_type": "code",
   "execution_count": 37,
   "metadata": {},
   "outputs": [
    {
     "name": "stdout",
     "output_type": "stream",
     "text": [
      "[INFO] describing images...\n",
      "[INFO] processed 1000/5167\n",
      "[INFO] processed 2000/5167\n",
      "[INFO] processed 3000/5167\n",
      "[INFO] processed 4000/5167\n",
      "[INFO] processed 5000/5167\n",
      "[INFO] VGG16 matrix: 837.05MB\n",
      "[INFO] evaluating vgg accuracy...\n"
     ]
    },
    {
     "name": "stderr",
     "output_type": "stream",
     "text": [
      "C:\\Users\\Java\\Anaconda3\\envs\\tensorflow\\lib\\site-packages\\ipykernel_launcher.py:34: DataConversionWarning: A column-vector y was passed when a 1d array was expected. Please change the shape of y to (n_samples, ), for example using ravel().\n"
     ]
    },
    {
     "name": "stdout",
     "output_type": "stream",
     "text": [
      "[INFO] vgg accuracy: 20.43%\n"
     ]
    }
   ],
   "source": [
    "\n",
    "\n",
    "print(\"[INFO] describing images...\")\n",
    "\n",
    "imagePaths = [os.path.join(\"C:\\\\Users\\\\Java\\\\Desktop\\\\knntest\",x) for x in os.listdir(\"C:\\\\Users\\\\Java\\\\Desktop\\\\knntest\")]\n",
    "\n",
    "labels = []\n",
    "vggs = []\n",
    "\n",
    "\n",
    "for (i, imagePath) in enumerate(imagePaths):\n",
    "    label = re.findall('\\D+',imagePath.split(os.path.sep)[-1].split(\".\")[0])\n",
    "    img = image.load_img(imagePath, target_size=(150, 150))\n",
    "    x = image.img_to_array(img)\n",
    "    x = np.expand_dims(x, axis=0)\n",
    "    x = preprocess_input(x)\n",
    "\n",
    "    features = model.predict(x).flatten()\n",
    "    vggs.append(features)\n",
    "    labels.append(label)\n",
    "    if i > 0 and i % 1000 == 0:\n",
    "        print(\"[INFO] processed {}/{}\".format(i, len(imagePaths)))\n",
    "\n",
    "\n",
    "labels = np.array(labels)\n",
    "vggs = np.array(vggs)\n",
    "print(\"[INFO] VGG16 matrix: {:.2f}MB\".format(vggs.nbytes / (1024 * 1000.0)))\n",
    "\n",
    "(trainvgg, testvgg, trainvggLabels, testvggLabels) = train_test_split(vggs, labels, test_size=0.25, random_state=42)\n",
    "\n",
    "\n",
    "print(\"[INFO] evaluating vgg accuracy...\")\n",
    "model = KNeighborsClassifier(n_neighbors=7,n_jobs=-1)\n",
    "model.fit(trainvgg, trainvggLabels)\n",
    "acc = model.score(testvgg, testvggLabels)\n",
    "print(\"[INFO] vgg accuracy: {:.2f}%\".format(acc * 100))"
   ]
  },
  {
   "cell_type": "code",
   "execution_count": null,
   "metadata": {},
   "outputs": [],
   "source": []
  }
 ],
 "metadata": {
  "kernelspec": {
   "display_name": "Python 3",
   "language": "python",
   "name": "python3"
  },
  "language_info": {
   "codemirror_mode": {
    "name": "ipython",
    "version": 3
   },
   "file_extension": ".py",
   "mimetype": "text/x-python",
   "name": "python",
   "nbconvert_exporter": "python",
   "pygments_lexer": "ipython3",
   "version": "3.5.5"
  }
 },
 "nbformat": 4,
 "nbformat_minor": 2
}
