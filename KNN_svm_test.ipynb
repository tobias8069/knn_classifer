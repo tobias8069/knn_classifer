{
 "cells": [
  {
   "cell_type": "code",
   "execution_count": 1,
   "metadata": {
    "scrolled": false
   },
   "outputs": [
    {
     "name": "stderr",
     "output_type": "stream",
     "text": [
      "C:\\Users\\Java\\Anaconda3\\envs\\tensorflow\\lib\\site-packages\\sklearn\\cross_validation.py:41: DeprecationWarning: This module was deprecated in version 0.18 in favor of the model_selection module into which all the refactored classes and functions are moved. Also note that the interface of the new CV iterators are different from that of this module. This module will be removed in 0.20.\n",
      "  \"This module will be removed in 0.20.\", DeprecationWarning)\n"
     ]
    }
   ],
   "source": [
    "# import the necessary packages\n",
    "from sklearn.neighbors import KNeighborsClassifier\n",
    "from sklearn.neural_network import MLPClassifier\n",
    "from sklearn.svm import SVC\n",
    "from sklearn.cross_validation import train_test_split\n",
    "from imutils import paths\n",
    "import numpy as np\n",
    "import argparse\n",
    "import imutils\n",
    "import cv2\n",
    "import os\n",
    "import re\n"
   ]
  },
  {
   "cell_type": "code",
   "execution_count": 5,
   "metadata": {},
   "outputs": [],
   "source": [
    "def image_to_feature_vector(image, size=(128, 128)):\n",
    "\t# resize the image to a fixed size, then flatten the image into\n",
    "\t# a list of raw pixel intensities\n",
    "\treturn cv2.resize(image, size).flatten()\n",
    "\n",
    "def extract_color_histogram(image, bins=(64, 64, 64)):\n",
    "    hsv = cv2.cvtColor(image, cv2.COLOR_BGR2HSV)\n",
    "    hist = cv2.calcHist([hsv], [0, 1, 2], None, bins,\n",
    "        [0, 180, 0, 256, 0, 256])\n",
    "\n",
    "    if imutils.is_cv2():\n",
    "        hist = cv2.normalize(hist)\n",
    "    else:\n",
    "        cv2.normalize(hist, hist)\n",
    "\n",
    "    return hist.flatten()"
   ]
  },
  {
   "cell_type": "code",
   "execution_count": 6,
   "metadata": {},
   "outputs": [
    {
     "name": "stdout",
     "output_type": "stream",
     "text": [
      "[INFO] describing images...\n",
      "[INFO] processed 1000/5167\n",
      "[INFO] processed 2000/5167\n",
      "[INFO] processed 3000/5167\n",
      "[INFO] processed 4000/5167\n",
      "[INFO] processed 5000/5167\n",
      "[INFO] pixels matrix: 248.02MB\n",
      "[INFO] features matrix: 5291.01MB\n",
      "\n",
      "[INFO] evaluating histogram accuracy...\n"
     ]
    },
    {
     "name": "stderr",
     "output_type": "stream",
     "text": [
      "C:\\Users\\Java\\Anaconda3\\envs\\tensorflow\\lib\\site-packages\\sklearn\\utils\\validation.py:578: DataConversionWarning: A column-vector y was passed when a 1d array was expected. Please change the shape of y to (n_samples, ), for example using ravel().\n",
      "  y = column_or_1d(y, warn=True)\n",
      "C:\\Users\\Java\\Anaconda3\\envs\\tensorflow\\lib\\site-packages\\sklearn\\svm\\base.py:218: ConvergenceWarning: Solver terminated early (max_iter=500).  Consider pre-processing your data with StandardScaler or MinMaxScaler.\n",
      "  % self.max_iter, ConvergenceWarning)\n"
     ]
    },
    {
     "name": "stdout",
     "output_type": "stream",
     "text": [
      "Total time in 197.70000000000002 minutes\n",
      "[INFO] SVM-SVC trainset histogram accuracy: 8.06%\n",
      "[INFO] SVM-SVC testset histogram accuracy: 10.95%\n"
     ]
    }
   ],
   "source": [
    "from timeit import default_timer as timer\n",
    "from sklearn.preprocessing import StandardScaler,MinMaxScaler\n",
    "import matplotlib.pyplot as plt\n",
    "\n",
    "print(\"[INFO] describing images...\")\n",
    "\n",
    "imagePaths = [os.path.join(\"C:\\\\Users\\\\Java\\\\Desktop\\\\knntest\",x) for x in os.listdir(\"C:\\\\Users\\\\Java\\\\Desktop\\\\knntest\")]\n",
    "\n",
    "rawImages = []\n",
    "features = []\n",
    "labels = []\n",
    "\n",
    "\n",
    "for (i, imagePath) in enumerate(imagePaths):\n",
    "    image = cv2.imread(imagePath)\n",
    "    label = re.findall('\\D+',imagePath.split(os.path.sep)[-1].split(\".\")[0])\n",
    "    \n",
    "    pixels = image_to_feature_vector(image)\n",
    "    hist = extract_color_histogram(image)\n",
    "    \n",
    "    rawImages.append(pixels)\n",
    "    features.append(hist)\n",
    "    labels.append(label)\n",
    "    if i > 0 and i % 1000 == 0:\n",
    "        print(\"[INFO] processed {}/{}\".format(i, len(imagePaths)))\n",
    "\n",
    "\n",
    "rawImages = np.array(rawImages)\n",
    "features = np.array(features)\n",
    "labels = np.array(labels)\n",
    "print(\"[INFO] pixels matrix: {:.2f}MB\".format(\n",
    "\trawImages.nbytes / (1024 * 1000.0)))\n",
    "print(\"[INFO] features matrix: {:.2f}MB\".format(\n",
    "\tfeatures.nbytes / (1024 * 1000.0)))\n",
    "\n",
    "(trainRI, testRI, trainRL, testRL) = train_test_split(\n",
    "\trawImages, labels, test_size=0.15, random_state=42)\n",
    "(trainFeat, testFeat, trainLabels, testLabels) = train_test_split(\n",
    "\tfeatures, labels, test_size=0.15, random_state=42)\n",
    "\n",
    "# print(\"\\n\")\n",
    "# print(\"[INFO] evaluating histogram accuracy...\")\n",
    "# start = timer()\n",
    "\n",
    "# model = KNeighborsClassifier(n_neighbors=7,n_jobs=-1)\n",
    "# model.fit(trainFeat, trainLabels)\n",
    "# acc1 = model.score(trainFeat, trainLabels)\n",
    "# acc = model.score(testFeat, testLabels)\n",
    "\n",
    "\n",
    "# end = timer()\n",
    "# print(\"Total time in {} minutes\".format(0.1*round((end - start)/6)))\n",
    "# print(\"[INFO] k-NN classifier: k=%d\" % 7)\n",
    "# print(\"[INFO] trainset histogram accuracy: {:.2f}%\".format(acc1 * 100))\n",
    "# print(\"[INFO] testset histogram accuracy: {:.2f}%\".format(acc * 100))\n",
    "\n",
    "# SVC\n",
    "# scaler = StandardScaler()\n",
    "# trainFeat = scaler.fit_transform(trainFeat)\n",
    "# from sklearn.decomposition import PCA\n",
    "# pca = PCA(n_components = 3000)\n",
    "# X_train_pca = pca.fit_transform(trainFeat)\n",
    "# X_test_pca = pca.transform(testFeat)\n",
    "#pca.explained_variance_ratio_\n",
    "# plt.bar(range(1,30), pca.explained_variance_ratio_, alpha=0.5, align='center')\n",
    "# plt.step(range(1,30), np.cumsum(pca.explained_variance_ratio_), where='mid')\n",
    "# plt.ylabel('Explained variance ratio')\n",
    "# plt.xlabel('Principal components')\n",
    "# plt.show()\n",
    "\n",
    "print(\"\\n[INFO] evaluating histogram accuracy...\")\n",
    "\n",
    "start = timer()\n",
    "model = SVC(max_iter=500,class_weight='balanced')\n",
    "model.fit(trainFeat, trainLabels)\n",
    "acc1 = model.score(trainFeat, trainLabels)\n",
    "acc = model.score(testFeat, testLabels)\n",
    "end = timer()\n",
    "print(\"Total time in {} minutes\".format(0.1*round((end - start)/6)))\n",
    "print(\"[INFO] SVM-SVC trainset histogram accuracy: {:.2f}%\".format(acc1 * 100))\n",
    "print(\"[INFO] SVM-SVC testset histogram accuracy: {:.2f}%\".format(acc * 100))\n"
   ]
  },
  {
   "cell_type": "code",
   "execution_count": 8,
   "metadata": {},
   "outputs": [
    {
     "data": {
      "text/plain": [
       "(4391, 32768)"
      ]
     },
     "execution_count": 8,
     "metadata": {},
     "output_type": "execute_result"
    }
   ],
   "source": [
    "trainFeat.shape\n"
   ]
  }
 ],
 "metadata": {
  "kernelspec": {
   "display_name": "Python 3",
   "language": "python",
   "name": "python3"
  },
  "language_info": {
   "codemirror_mode": {
    "name": "ipython",
    "version": 3
   },
   "file_extension": ".py",
   "mimetype": "text/x-python",
   "name": "python",
   "nbconvert_exporter": "python",
   "pygments_lexer": "ipython3",
   "version": "3.5.5"
  }
 },
 "nbformat": 4,
 "nbformat_minor": 2
}
