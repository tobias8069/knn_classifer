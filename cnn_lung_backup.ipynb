{
 "cells": [
  {
   "cell_type": "code",
   "execution_count": 1,
   "metadata": {
    "colab": {
     "autoexec": {
      "startup": false,
      "wait_interval": 0
     },
     "base_uri": "https://localhost:8080/",
     "height": 52,
     "output_extras": [
      {
       "item_id": 1
      }
     ]
    },
    "colab_type": "code",
    "executionInfo": {
     "elapsed": 1598,
     "status": "ok",
     "timestamp": 1522296672250,
     "user": {
      "displayName": "彭信穎",
      "photoUrl": "https://lh3.googleusercontent.com/a/default-user=s128",
      "userId": "107914544912264273998"
     },
     "user_tz": -480
    },
    "id": "okWVuzU6hOhb",
    "outputId": "bdceb10b-3403-48e7-bc9c-3573b17c3e28"
   },
   "outputs": [
    {
     "name": "stderr",
     "output_type": "stream",
     "text": [
      "C:\\Users\\Java\\Anaconda3\\envs\\tensorflow\\lib\\site-packages\\h5py\\__init__.py:36: FutureWarning: Conversion of the second argument of issubdtype from `float` to `np.floating` is deprecated. In future, it will be treated as `np.float64 == np.dtype(float).type`.\n",
      "  from ._conv import register_converters as _register_converters\n",
      "Using TensorFlow backend.\n"
     ]
    },
    {
     "name": "stdout",
     "output_type": "stream",
     "text": [
      "Found 8882 images belonging to 16 classes.\n",
      "Found 3033 images belonging to 16 classes.\n"
     ]
    }
   ],
   "source": [
    "\n",
    "from keras.models import Sequential\n",
    "from keras.layers import Conv2D\n",
    "from keras.layers import MaxPooling2D\n",
    "from keras.layers import Flatten\n",
    "from keras.layers import Dense\n",
    "from keras.layers import Dropout\n",
    "from timeit import default_timer as timer\n",
    "start = timer()\n",
    "\n",
    "model = Sequential()\n",
    "\n",
    "model.add(Conv2D(32, (3, 3), activation=\"relu\", input_shape=(150, 150, 3)))\n",
    "model.add(Dropout(0.25))\n",
    "model.add(MaxPooling2D(pool_size = (2, 2)))\n",
    "model.add(Conv2D(32, (3, 3), activation=\"relu\", input_shape=(150, 150, 3)))\n",
    "model.add(Dropout(0.25))\n",
    "model.add(MaxPooling2D(pool_size = (2, 2)))\n",
    "model.add(Conv2D(32, (3, 3), activation=\"relu\", input_shape=(150, 150, 3)))\n",
    "model.add(Dropout(0.25))\n",
    "model.add(MaxPooling2D(pool_size = (2, 2)))\n",
    "model.add(Conv2D(32, (3, 3), activation=\"relu\", input_shape=(150, 150, 3)))\n",
    "model.add(Dropout(0.25))\n",
    "model.add(MaxPooling2D(pool_size = (2, 2)))\n",
    "model.add(Conv2D(32, (3, 3), activation=\"relu\"))\n",
    "model.add(MaxPooling2D(pool_size = (2, 2)))\n",
    "model.add(Flatten())\n",
    "model.add(Dense(activation = 'relu', units = 128))\n",
    "model.add(Dense(activation = 'softmax', units =16))\n",
    "\n",
    "model.compile(optimizer = 'adam', loss = 'categorical_crossentropy', metrics = ['accuracy'])\n",
    "\n",
    "from keras.preprocessing.image import ImageDataGenerator\n",
    "train_datagen = ImageDataGenerator(rescale = 1./255,\n",
    "                                   shear_range = 0.2,\n",
    "                                   zoom_range = 0.2,\n",
    "                                   horizontal_flip = True)\n",
    "\n",
    "\n",
    "\n",
    "test_datagen = ImageDataGenerator(rescale = 1./255)\n",
    "training_set = train_datagen.flow_from_directory(\"C:\\\\Users\\\\Java\\\\Desktop\\\\Model\\\\data\\\\dog_breed\\\\train\",\n",
    "                                                 target_size = (150,150),\n",
    "                                                 batch_size = 50,\n",
    "                                                 class_mode = 'categorical')\n",
    "test_set = test_datagen.flow_from_directory(\"C:\\\\Users\\\\Java\\\\Desktop\\\\Model\\\\data\\\\dog_breed\\\\validation\",\n",
    "                                            target_size = (150, 150),\n",
    "                                            batch_size = 50,\n",
    "                                            class_mode = 'categorical')\n",
    "\n"
   ]
  },
  {
   "cell_type": "code",
   "execution_count": 2,
   "metadata": {
    "colab": {
     "autoexec": {
      "startup": false,
      "wait_interval": 0
     },
     "base_uri": "https://localhost:8080/",
     "height": 1122,
     "output_extras": [
      {
       "item_id": 1
      },
      {
       "item_id": 2
      }
     ]
    },
    "colab_type": "code",
    "executionInfo": {
     "elapsed": 1216,
     "status": "error",
     "timestamp": 1522296263007,
     "user": {
      "displayName": "彭信穎",
      "photoUrl": "https://lh3.googleusercontent.com/a/default-user=s128",
      "userId": "107914544912264273998"
     },
     "user_tz": -480
    },
    "id": "IdDrVlVIGWYG",
    "outputId": "228d3f3d-d897-4ab5-fbf4-740574442acb"
   },
   "outputs": [
    {
     "name": "stdout",
     "output_type": "stream",
     "text": [
      "Epoch 1/100\n",
      "100/100 [==============================] - 229s 2s/step - loss: 2.7295 - acc: 0.1064 - val_loss: 2.6927 - val_acc: 0.1108\n",
      "Epoch 2/100\n",
      "100/100 [==============================] - 179s 2s/step - loss: 2.5144 - acc: 0.1858 - val_loss: 2.6138 - val_acc: 0.1748\n",
      "Epoch 3/100\n",
      "100/100 [==============================] - 167s 2s/step - loss: 2.4136 - acc: 0.2258 - val_loss: 2.5424 - val_acc: 0.2012\n",
      "Epoch 4/100\n",
      "100/100 [==============================] - 165s 2s/step - loss: 2.4021 - acc: 0.2274 - val_loss: 2.5411 - val_acc: 0.2304\n",
      "Epoch 5/100\n",
      "100/100 [==============================] - 164s 2s/step - loss: 2.3730 - acc: 0.2322 - val_loss: 2.4924 - val_acc: 0.2364\n",
      "Epoch 6/100\n",
      "100/100 [==============================] - 164s 2s/step - loss: 2.3099 - acc: 0.2430 - val_loss: 2.4863 - val_acc: 0.2400\n",
      "Epoch 7/100\n",
      "100/100 [==============================] - 164s 2s/step - loss: 2.3070 - acc: 0.2512 - val_loss: 2.5148 - val_acc: 0.2208\n",
      "Epoch 8/100\n",
      "100/100 [==============================] - 164s 2s/step - loss: 2.2656 - acc: 0.2800 - val_loss: 2.4053 - val_acc: 0.2576\n",
      "Epoch 9/100\n",
      "100/100 [==============================] - 164s 2s/step - loss: 2.2428 - acc: 0.2827 - val_loss: 2.4474 - val_acc: 0.2568\n",
      "Epoch 10/100\n",
      "100/100 [==============================] - 165s 2s/step - loss: 2.1839 - acc: 0.2857 - val_loss: 2.4652 - val_acc: 0.2492\n",
      "Epoch 11/100\n",
      "100/100 [==============================] - 165s 2s/step - loss: 2.1794 - acc: 0.2966 - val_loss: 2.3832 - val_acc: 0.2628\n",
      "Epoch 12/100\n",
      "100/100 [==============================] - 164s 2s/step - loss: 2.1556 - acc: 0.3036 - val_loss: 2.3457 - val_acc: 0.2752\n",
      "Epoch 13/100\n",
      "100/100 [==============================] - 164s 2s/step - loss: 2.1151 - acc: 0.3190 - val_loss: 2.3641 - val_acc: 0.2736\n",
      "Epoch 14/100\n",
      "100/100 [==============================] - 164s 2s/step - loss: 2.1060 - acc: 0.3158 - val_loss: 2.3689 - val_acc: 0.2668\n",
      "Epoch 15/100\n",
      "100/100 [==============================] - 163s 2s/step - loss: 2.0925 - acc: 0.3283 - val_loss: 2.3939 - val_acc: 0.2600\n",
      "Epoch 16/100\n",
      "100/100 [==============================] - 163s 2s/step - loss: 2.0462 - acc: 0.3448 - val_loss: 2.2862 - val_acc: 0.2852\n",
      "Epoch 17/100\n",
      "100/100 [==============================] - 164s 2s/step - loss: 2.0634 - acc: 0.3306 - val_loss: 2.2953 - val_acc: 0.2772\n",
      "Epoch 18/100\n",
      "100/100 [==============================] - 164s 2s/step - loss: 2.0541 - acc: 0.3434 - val_loss: 2.3402 - val_acc: 0.2824\n",
      "Epoch 19/100\n",
      "100/100 [==============================] - 166s 2s/step - loss: 2.0203 - acc: 0.3496 - val_loss: 2.3716 - val_acc: 0.2768\n",
      "Epoch 20/100\n",
      "100/100 [==============================] - 163s 2s/step - loss: 1.9966 - acc: 0.3626 - val_loss: 2.3027 - val_acc: 0.3048\n",
      "Epoch 21/100\n",
      "100/100 [==============================] - 164s 2s/step - loss: 1.9967 - acc: 0.3604 - val_loss: 2.2990 - val_acc: 0.2824\n",
      "Epoch 22/100\n",
      "100/100 [==============================] - 164s 2s/step - loss: 1.9720 - acc: 0.3614 - val_loss: 2.2526 - val_acc: 0.3072\n",
      "Epoch 23/100\n",
      "100/100 [==============================] - 164s 2s/step - loss: 1.9276 - acc: 0.3760 - val_loss: 2.3543 - val_acc: 0.2744\n",
      "Epoch 24/100\n",
      "100/100 [==============================] - 165s 2s/step - loss: 1.9439 - acc: 0.3674 - val_loss: 2.2849 - val_acc: 0.3000\n",
      "Epoch 25/100\n",
      "100/100 [==============================] - 165s 2s/step - loss: 1.9146 - acc: 0.3718 - val_loss: 2.2465 - val_acc: 0.3040\n",
      "Epoch 26/100\n",
      "100/100 [==============================] - 165s 2s/step - loss: 1.9162 - acc: 0.3810 - val_loss: 2.4221 - val_acc: 0.2580\n",
      "Epoch 27/100\n",
      "100/100 [==============================] - 164s 2s/step - loss: 1.8970 - acc: 0.3868 - val_loss: 2.2029 - val_acc: 0.3328\n",
      "Epoch 28/100\n",
      "100/100 [==============================] - 165s 2s/step - loss: 1.8839 - acc: 0.3916 - val_loss: 2.1590 - val_acc: 0.3404\n",
      "Epoch 29/100\n",
      "100/100 [==============================] - 165s 2s/step - loss: 1.8646 - acc: 0.4034 - val_loss: 2.2857 - val_acc: 0.3004\n",
      "Epoch 30/100\n",
      "100/100 [==============================] - 164s 2s/step - loss: 1.8496 - acc: 0.4061 - val_loss: 2.2791 - val_acc: 0.3016\n",
      "Epoch 31/100\n",
      "100/100 [==============================] - 164s 2s/step - loss: 1.8561 - acc: 0.4012 - val_loss: 2.1954 - val_acc: 0.3268\n",
      "Epoch 32/100\n",
      "100/100 [==============================] - 164s 2s/step - loss: 1.8204 - acc: 0.4054 - val_loss: 2.2280 - val_acc: 0.3088\n",
      "Epoch 33/100\n",
      "100/100 [==============================] - 164s 2s/step - loss: 1.8119 - acc: 0.4148 - val_loss: 2.2399 - val_acc: 0.3108\n",
      "Epoch 34/100\n",
      "100/100 [==============================] - 164s 2s/step - loss: 1.7871 - acc: 0.4122 - val_loss: 2.1073 - val_acc: 0.3636\n",
      "Epoch 35/100\n",
      "100/100 [==============================] - 164s 2s/step - loss: 1.7803 - acc: 0.4290 - val_loss: 2.2021 - val_acc: 0.3216\n",
      "Epoch 36/100\n",
      "100/100 [==============================] - 164s 2s/step - loss: 1.8089 - acc: 0.4219 - val_loss: 2.1334 - val_acc: 0.3388\n",
      "Epoch 37/100\n",
      "100/100 [==============================] - 166s 2s/step - loss: 1.7623 - acc: 0.4236 - val_loss: 2.2439 - val_acc: 0.3068\n",
      "Epoch 38/100\n",
      "100/100 [==============================] - 165s 2s/step - loss: 1.7705 - acc: 0.4226 - val_loss: 2.1821 - val_acc: 0.3140\n",
      "Epoch 39/100\n",
      "100/100 [==============================] - 164s 2s/step - loss: 1.7391 - acc: 0.4332 - val_loss: 2.1937 - val_acc: 0.3200\n",
      "Epoch 40/100\n",
      "100/100 [==============================] - 164s 2s/step - loss: 1.7439 - acc: 0.4318 - val_loss: 2.0334 - val_acc: 0.3800\n",
      "Epoch 41/100\n",
      "100/100 [==============================] - 164s 2s/step - loss: 1.7476 - acc: 0.4404 - val_loss: 2.2219 - val_acc: 0.3128\n",
      "Epoch 42/100\n",
      "100/100 [==============================] - 165s 2s/step - loss: 1.6785 - acc: 0.4538 - val_loss: 2.1389 - val_acc: 0.3556\n",
      "Epoch 43/100\n",
      "100/100 [==============================] - 165s 2s/step - loss: 1.7193 - acc: 0.4354 - val_loss: 2.0899 - val_acc: 0.3688\n",
      "Epoch 44/100\n",
      "100/100 [==============================] - 164s 2s/step - loss: 1.6879 - acc: 0.4528 - val_loss: 2.1172 - val_acc: 0.3476\n",
      "Epoch 45/100\n",
      "100/100 [==============================] - 164s 2s/step - loss: 1.6730 - acc: 0.4452 - val_loss: 2.1341 - val_acc: 0.3460\n",
      "Epoch 46/100\n",
      "100/100 [==============================] - 164s 2s/step - loss: 1.7027 - acc: 0.4423 - val_loss: 2.1596 - val_acc: 0.3408\n",
      "Epoch 47/100\n",
      "100/100 [==============================] - 164s 2s/step - loss: 1.6745 - acc: 0.4493 - val_loss: 2.1456 - val_acc: 0.3436\n",
      "Epoch 48/100\n",
      "100/100 [==============================] - 164s 2s/step - loss: 1.6784 - acc: 0.4562 - val_loss: 2.1479 - val_acc: 0.3296\n",
      "Epoch 49/100\n",
      "100/100 [==============================] - 163s 2s/step - loss: 1.6660 - acc: 0.4532 - val_loss: 2.1359 - val_acc: 0.3584\n",
      "Epoch 50/100\n",
      "100/100 [==============================] - 165s 2s/step - loss: 1.6340 - acc: 0.4714 - val_loss: 2.0617 - val_acc: 0.3584\n",
      "Epoch 51/100\n",
      "100/100 [==============================] - 164s 2s/step - loss: 1.6468 - acc: 0.4614 - val_loss: 2.1932 - val_acc: 0.3228\n",
      "Epoch 52/100\n",
      "100/100 [==============================] - 165s 2s/step - loss: 1.6394 - acc: 0.4611 - val_loss: 2.2166 - val_acc: 0.3220\n",
      "Epoch 53/100\n",
      "100/100 [==============================] - 165s 2s/step - loss: 1.6308 - acc: 0.4750 - val_loss: 2.0732 - val_acc: 0.3612\n",
      "Epoch 54/100\n",
      "100/100 [==============================] - 166s 2s/step - loss: 1.6041 - acc: 0.4720 - val_loss: 2.0294 - val_acc: 0.3696\n",
      "Epoch 55/100\n",
      "100/100 [==============================] - 164s 2s/step - loss: 1.6483 - acc: 0.4657 - val_loss: 2.0324 - val_acc: 0.3788\n",
      "Epoch 56/100\n",
      "100/100 [==============================] - 164s 2s/step - loss: 1.5917 - acc: 0.4807 - val_loss: 2.0692 - val_acc: 0.3632\n",
      "Epoch 57/100\n",
      "100/100 [==============================] - 165s 2s/step - loss: 1.5812 - acc: 0.4870 - val_loss: 2.0385 - val_acc: 0.3820\n",
      "Epoch 58/100\n",
      "100/100 [==============================] - 165s 2s/step - loss: 1.5881 - acc: 0.4826 - val_loss: 2.0304 - val_acc: 0.3820\n",
      "Epoch 59/100\n",
      "100/100 [==============================] - 164s 2s/step - loss: 1.5817 - acc: 0.4823 - val_loss: 2.0575 - val_acc: 0.3784\n",
      "Epoch 60/100\n",
      "100/100 [==============================] - 165s 2s/step - loss: 1.5702 - acc: 0.4960 - val_loss: 2.1286 - val_acc: 0.3496\n",
      "Epoch 61/100\n",
      "100/100 [==============================] - 165s 2s/step - loss: 1.5635 - acc: 0.4854 - val_loss: 2.0624 - val_acc: 0.3684\n"
     ]
    },
    {
     "name": "stdout",
     "output_type": "stream",
     "text": [
      "Epoch 62/100\n",
      "100/100 [==============================] - 165s 2s/step - loss: 1.5932 - acc: 0.4760 - val_loss: 2.0156 - val_acc: 0.3820\n",
      "Epoch 63/100\n",
      "100/100 [==============================] - 165s 2s/step - loss: 1.5453 - acc: 0.4846 - val_loss: 2.0617 - val_acc: 0.3656\n",
      "Epoch 64/100\n",
      "100/100 [==============================] - 164s 2s/step - loss: 1.5667 - acc: 0.4849 - val_loss: 2.0049 - val_acc: 0.3896\n",
      "Epoch 65/100\n",
      "100/100 [==============================] - 165s 2s/step - loss: 1.5176 - acc: 0.5023 - val_loss: 2.0055 - val_acc: 0.3900\n",
      "Epoch 66/100\n",
      "100/100 [==============================] - 165s 2s/step - loss: 1.5271 - acc: 0.4970 - val_loss: 2.0478 - val_acc: 0.3636\n",
      "Epoch 67/100\n",
      "100/100 [==============================] - 165s 2s/step - loss: 1.5179 - acc: 0.5021 - val_loss: 2.0350 - val_acc: 0.3608\n",
      "Epoch 68/100\n",
      "100/100 [==============================] - 167s 2s/step - loss: 1.5146 - acc: 0.5064 - val_loss: 2.0363 - val_acc: 0.3724\n",
      "Epoch 69/100\n",
      "100/100 [==============================] - 165s 2s/step - loss: 1.5411 - acc: 0.4897 - val_loss: 2.0531 - val_acc: 0.3692\n",
      "Epoch 70/100\n",
      "100/100 [==============================] - 165s 2s/step - loss: 1.4990 - acc: 0.5053 - val_loss: 2.0041 - val_acc: 0.3704\n",
      "Epoch 71/100\n",
      "100/100 [==============================] - 166s 2s/step - loss: 1.5015 - acc: 0.5064 - val_loss: 1.9499 - val_acc: 0.4060\n",
      "Epoch 72/100\n",
      "100/100 [==============================] - 165s 2s/step - loss: 1.4989 - acc: 0.5049 - val_loss: 2.1252 - val_acc: 0.3588\n",
      "Epoch 73/100\n",
      "100/100 [==============================] - 165s 2s/step - loss: 1.5094 - acc: 0.4960 - val_loss: 2.0021 - val_acc: 0.3820\n",
      "Epoch 74/100\n",
      "100/100 [==============================] - 164s 2s/step - loss: 1.4680 - acc: 0.5118 - val_loss: 1.9509 - val_acc: 0.4096\n",
      "Epoch 75/100\n",
      "100/100 [==============================] - 164s 2s/step - loss: 1.4740 - acc: 0.5140 - val_loss: 1.9681 - val_acc: 0.3992\n",
      "Epoch 76/100\n",
      "100/100 [==============================] - 165s 2s/step - loss: 1.4719 - acc: 0.5048 - val_loss: 2.0849 - val_acc: 0.3636\n",
      "Epoch 77/100\n",
      "100/100 [==============================] - 165s 2s/step - loss: 1.4329 - acc: 0.5242 - val_loss: 2.0402 - val_acc: 0.3628\n",
      "Epoch 78/100\n",
      "100/100 [==============================] - 165s 2s/step - loss: 1.4590 - acc: 0.5139 - val_loss: 2.0405 - val_acc: 0.3800\n",
      "Epoch 79/100\n",
      "100/100 [==============================] - 164s 2s/step - loss: 1.4835 - acc: 0.5114 - val_loss: 2.0394 - val_acc: 0.3696\n",
      "Epoch 80/100\n",
      "100/100 [==============================] - 165s 2s/step - loss: 1.4435 - acc: 0.5222 - val_loss: 2.0059 - val_acc: 0.3956\n",
      "Epoch 81/100\n",
      "100/100 [==============================] - 165s 2s/step - loss: 1.4494 - acc: 0.5264 - val_loss: 2.1167 - val_acc: 0.3460\n",
      "Epoch 82/100\n",
      "100/100 [==============================] - 164s 2s/step - loss: 1.4731 - acc: 0.5198 - val_loss: 1.9597 - val_acc: 0.4124\n",
      "Epoch 83/100\n",
      "100/100 [==============================] - 164s 2s/step - loss: 1.4235 - acc: 0.5318 - val_loss: 1.9939 - val_acc: 0.3784\n",
      "Epoch 84/100\n",
      "100/100 [==============================] - 165s 2s/step - loss: 1.4264 - acc: 0.5355 - val_loss: 1.9923 - val_acc: 0.3904\n",
      "Epoch 85/100\n",
      "100/100 [==============================] - 165s 2s/step - loss: 1.4155 - acc: 0.5300 - val_loss: 1.9796 - val_acc: 0.4032\n",
      "Epoch 86/100\n",
      "100/100 [==============================] - 164s 2s/step - loss: 1.4197 - acc: 0.5276 - val_loss: 1.9251 - val_acc: 0.4056\n",
      "Epoch 87/100\n",
      "100/100 [==============================] - 164s 2s/step - loss: 1.4572 - acc: 0.5182 - val_loss: 2.0490 - val_acc: 0.3724\n",
      "Epoch 88/100\n",
      "100/100 [==============================] - 165s 2s/step - loss: 1.4036 - acc: 0.5310 - val_loss: 2.0956 - val_acc: 0.3624\n",
      "Epoch 89/100\n",
      "100/100 [==============================] - 164s 2s/step - loss: 1.4548 - acc: 0.5249 - val_loss: 1.9634 - val_acc: 0.3904\n",
      "Epoch 90/100\n",
      "100/100 [==============================] - 165s 2s/step - loss: 1.3927 - acc: 0.5394 - val_loss: 2.0170 - val_acc: 0.3664\n",
      "Epoch 91/100\n",
      "100/100 [==============================] - 164s 2s/step - loss: 1.4112 - acc: 0.5371 - val_loss: 2.0860 - val_acc: 0.3588\n",
      "Epoch 92/100\n",
      "100/100 [==============================] - 165s 2s/step - loss: 1.3895 - acc: 0.5392 - val_loss: 2.0591 - val_acc: 0.3704\n",
      "Epoch 93/100\n",
      "100/100 [==============================] - 165s 2s/step - loss: 1.3900 - acc: 0.5448 - val_loss: 1.9870 - val_acc: 0.3972\n",
      "Epoch 94/100\n",
      "100/100 [==============================] - 165s 2s/step - loss: 1.3706 - acc: 0.5472 - val_loss: 2.0232 - val_acc: 0.3968\n",
      "Epoch 95/100\n",
      "100/100 [==============================] - 164s 2s/step - loss: 1.3540 - acc: 0.5514 - val_loss: 1.9905 - val_acc: 0.3956\n",
      "Epoch 96/100\n",
      "100/100 [==============================] - 164s 2s/step - loss: 1.3902 - acc: 0.5434 - val_loss: 2.1193 - val_acc: 0.3644\n",
      "Epoch 97/100\n",
      "100/100 [==============================] - 164s 2s/step - loss: 1.3424 - acc: 0.5578 - val_loss: 1.9796 - val_acc: 0.3916\n",
      "Epoch 98/100\n",
      "100/100 [==============================] - 164s 2s/step - loss: 1.3777 - acc: 0.5424 - val_loss: 2.0544 - val_acc: 0.3684\n",
      "Epoch 99/100\n",
      "100/100 [==============================] - 164s 2s/step - loss: 1.3520 - acc: 0.5488 - val_loss: 1.9948 - val_acc: 0.3944\n",
      "Epoch 100/100\n",
      "100/100 [==============================] - 163s 2s/step - loss: 1.3894 - acc: 0.5449 - val_loss: 1.9644 - val_acc: 0.3976\n",
      "Total time in minutes\n",
      "275.5\n"
     ]
    }
   ],
   "source": [
    "history = model.fit_generator(training_set,\n",
    "                         steps_per_epoch = 100,\n",
    "                         epochs = 100,\n",
    "                         validation_data = test_set,\n",
    "                         validation_steps = 50)\n",
    "end = timer()\n",
    "print(\"Total time in minutes\")\n",
    "print(0.1*round((end - start)/6))\n",
    "# end of work message\n",
    "\n"
   ]
  },
  {
   "cell_type": "code",
   "execution_count": 3,
   "metadata": {
    "colab": {
     "autoexec": {
      "startup": false,
      "wait_interval": 0
     },
     "base_uri": "https://localhost:8080/",
     "height": 391,
     "output_extras": [
      {
       "item_id": 1
      }
     ]
    },
    "colab_type": "code",
    "executionInfo": {
     "elapsed": 627,
     "status": "ok",
     "timestamp": 1522248840192,
     "user": {
      "displayName": "彭信穎",
      "photoUrl": "https://lh3.googleusercontent.com/a/default-user=s128",
      "userId": "107914544912264273998"
     },
     "user_tz": -480
    },
    "id": "6IvXdbk_EdIt",
    "outputId": "841fd14a-f5e0-4948-8363-a3468d8cda2e"
   },
   "outputs": [
    {
     "name": "stdout",
     "output_type": "stream",
     "text": [
      "_________________________________________________________________\n",
      "Layer (type)                 Output Shape              Param #   \n",
      "=================================================================\n",
      "conv2d_1 (Conv2D)            (None, 148, 148, 32)      896       \n",
      "_________________________________________________________________\n",
      "dropout_1 (Dropout)          (None, 148, 148, 32)      0         \n",
      "_________________________________________________________________\n",
      "max_pooling2d_1 (MaxPooling2 (None, 74, 74, 32)        0         \n",
      "_________________________________________________________________\n",
      "conv2d_2 (Conv2D)            (None, 72, 72, 32)        9248      \n",
      "_________________________________________________________________\n",
      "dropout_2 (Dropout)          (None, 72, 72, 32)        0         \n",
      "_________________________________________________________________\n",
      "max_pooling2d_2 (MaxPooling2 (None, 36, 36, 32)        0         \n",
      "_________________________________________________________________\n",
      "conv2d_3 (Conv2D)            (None, 34, 34, 32)        9248      \n",
      "_________________________________________________________________\n",
      "dropout_3 (Dropout)          (None, 34, 34, 32)        0         \n",
      "_________________________________________________________________\n",
      "max_pooling2d_3 (MaxPooling2 (None, 17, 17, 32)        0         \n",
      "_________________________________________________________________\n",
      "conv2d_4 (Conv2D)            (None, 15, 15, 32)        9248      \n",
      "_________________________________________________________________\n",
      "dropout_4 (Dropout)          (None, 15, 15, 32)        0         \n",
      "_________________________________________________________________\n",
      "max_pooling2d_4 (MaxPooling2 (None, 7, 7, 32)          0         \n",
      "_________________________________________________________________\n",
      "conv2d_5 (Conv2D)            (None, 5, 5, 32)          9248      \n",
      "_________________________________________________________________\n",
      "max_pooling2d_5 (MaxPooling2 (None, 2, 2, 32)          0         \n",
      "_________________________________________________________________\n",
      "flatten_1 (Flatten)          (None, 128)               0         \n",
      "_________________________________________________________________\n",
      "dense_1 (Dense)              (None, 128)               16512     \n",
      "_________________________________________________________________\n",
      "dense_2 (Dense)              (None, 16)                2064      \n",
      "=================================================================\n",
      "Total params: 56,464\n",
      "Trainable params: 56,464\n",
      "Non-trainable params: 0\n",
      "_________________________________________________________________\n",
      "None\n"
     ]
    }
   ],
   "source": [
    "print(model.summary())"
   ]
  },
  {
   "cell_type": "code",
   "execution_count": 5,
   "metadata": {
    "colab": {
     "autoexec": {
      "startup": false,
      "wait_interval": 0
     },
     "base_uri": "https://localhost:8080/",
     "height": 376,
     "output_extras": [
      {}
     ]
    },
    "colab_type": "code",
    "executionInfo": {
     "elapsed": 794,
     "status": "ok",
     "timestamp": 1522223998915,
     "user": {
      "displayName": "彭信穎",
      "photoUrl": "https://lh3.googleusercontent.com/a/default-user=s128",
      "userId": "107914544912264273998"
     },
     "user_tz": -480
    },
    "id": "EmK-FmsTJpPf",
    "outputId": "778508a6-b0f6-4e49-ffbc-651e2740ab26"
   },
   "outputs": [
    {
     "data": {
      "image/png": "[encoded data removed]",
      "text/plain": [
       "<Figure size 432x288 with 1 Axes>"
      ]
     },
     "metadata": {},
     "output_type": "display_data"
    },
    {
     "data": {
      "image/png": "[encoded data removed]",
      "text/plain": [
       "<Figure size 432x288 with 1 Axes>"
      ]
     },
     "metadata": {},
     "output_type": "display_data"
    }
   ],
   "source": [
    "import matplotlib.pyplot as plt\n",
    "acc = history.history['acc']\n",
    "val_acc = history.history['val_acc']\n",
    "loss = history.history['loss']\n",
    "val_loss = history.history['val_loss']\n",
    "\n",
    "epochs = range(len(acc))\n",
    "\n",
    "plt.plot(epochs, acc, label='Training acc')\n",
    "plt.plot(epochs, val_acc, label='Validation acc')\n",
    "plt.title('Training and validation accuracy')\n",
    "plt.legend()\n",
    "\n",
    "plt.figure()\n",
    "\n",
    "plt.plot(epochs, loss, label='Training loss')\n",
    "plt.plot(epochs, val_loss, label='Validation loss')\n",
    "plt.title('Training and validation loss')\n",
    "plt.legend()\n",
    "\n",
    "plt.show()"
   ]
  }
 ],
 "metadata": {
  "accelerator": "GPU",
  "colab": {
   "collapsed_sections": [],
   "default_view": {},
   "name": "cnn_lung.ipynb 的副本",
   "provenance": [],
   "version": "0.3.2",
   "views": {}
  },
  "kernelspec": {
   "display_name": "Python 3",
   "language": "python",
   "name": "python3"
  },
  "language_info": {
   "codemirror_mode": {
    "name": "ipython",
    "version": 3
   },
   "file_extension": ".py",
   "mimetype": "text/x-python",
   "name": "python",
   "nbconvert_exporter": "python",
   "pygments_lexer": "ipython3",
   "version": "3.5.5"
  }
 },
 "nbformat": 4,
 "nbformat_minor": 1
}
